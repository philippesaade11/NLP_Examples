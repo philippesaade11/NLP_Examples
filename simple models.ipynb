{
 "cells": [
  {
   "cell_type": "code",
   "execution_count": null,
   "metadata": {},
   "outputs": [],
   "source": [
    "#Use TFIDF and Random Forest to extract the most relevant words or grams\n",
    "\n",
    "from sklearn.feature_extraction.text import TfidfVectorizer\n",
    "from sklearn.ensemble import RandomForestClassifier\n",
    "import numpy as np\n",
    "\n",
    "vectorizer = TfidfVectorizer(analyzer='word', norm='l2', ngram_range=(1,3), min_df=5)\n",
    "\n",
    "X_tfidf = vectorizer.fit_transform(data[\"clean-sentence\"])\n",
    "X_tfidf.shape\n",
    "\n",
    "X_tfidf_cat = {}\n",
    "score = 0.001\n",
    "for category in Y.columns:\n",
    "  clf = RandomForestClassifier(class_weight=\"balanced\", n_estimators=1000, max_depth=5, n_jobs=-1)\n",
    "  clf.fit(X_tfidf, Y[category])\n",
    "\n",
    "  print(np.array(vectorizer.get_feature_names())[clf.feature_importances_ > score])\n",
    "  print(X_tfidf[:, clf.feature_importances_ > score].shape)\n",
    "  X_tfidf_cat[category] = X_tfidf[:, clf.feature_importances_ > score]"
   ]
  },
  {
   "cell_type": "code",
   "execution_count": null,
   "metadata": {},
   "outputs": [],
   "source": []
  }
 ],
 "metadata": {
  "kernelspec": {
   "display_name": "Python 3",
   "language": "python",
   "name": "python3"
  },
  "language_info": {
   "codemirror_mode": {
    "name": "ipython",
    "version": 3
   },
   "file_extension": ".py",
   "mimetype": "text/x-python",
   "name": "python",
   "nbconvert_exporter": "python",
   "pygments_lexer": "ipython3",
   "version": "3.7.6"
  }
 },
 "nbformat": 4,
 "nbformat_minor": 4
}
