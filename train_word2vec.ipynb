{
 "cells": [
  {
   "cell_type": "code",
   "execution_count": 5,
   "metadata": {},
   "outputs": [],
   "source": [
    "import pandas as pd\n",
    "\n",
    "data = pd.read_excel(\"data\")"
   ]
  },
  {
   "cell_type": "code",
   "execution_count": 6,
   "metadata": {},
   "outputs": [],
   "source": [
    "import import_ipynb\n",
    "from clean_sentence import expand_contractions, remove_special, lemate_tokenize, stem_tokenize\n",
    "\n",
    "data[\"clean_sentence\"] = data[\"sentence\"].apply(expand_contractions)\n",
    "data[\"clean_sentence\"] = data[\"clean_sentence\"].apply(remove_special)\n",
    "data[\"words\"] = data[\"clean_sentence\"].apply(stem_tokenize)"
   ]
  },
  {
   "cell_type": "code",
   "execution_count": null,
   "metadata": {},
   "outputs": [],
   "source": [
    "from gensim.models import Word2Vec, FastText\n",
    "\n",
    "#model = FastText(data[\"words\"].tolist(), size=512, window=5, min_count=5, sg=0)\n",
    "model = Word2Vec(data[\"words\"].tolist(), size=512, window=5, min_count=5, sg=0)"
   ]
  },
  {
   "cell_type": "code",
   "execution_count": null,
   "metadata": {},
   "outputs": [],
   "source": [
    "import pandas as pd\n",
    "import pickle\n",
    "\n",
    "def save_model(model, location):\n",
    "    file = open(location, 'wb')\n",
    "    pickle.dump(model, file)\n",
    "\n",
    "def load_model(location):\n",
    "    file = open(location, 'rb')\n",
    "    model = pickle.load(file)\n",
    "    return model\n",
    "\n",
    "save_model(model, \"word2vec.pickle\")"
   ]
  }
 ],
 "metadata": {
  "kernelspec": {
   "display_name": "Python 3",
   "language": "python",
   "name": "python3"
  },
  "language_info": {
   "codemirror_mode": {
    "name": "ipython",
    "version": 3
   },
   "file_extension": ".py",
   "mimetype": "text/x-python",
   "name": "python",
   "nbconvert_exporter": "python",
   "pygments_lexer": "ipython3",
   "version": "3.7.6"
  }
 },
 "nbformat": 4,
 "nbformat_minor": 4
}
